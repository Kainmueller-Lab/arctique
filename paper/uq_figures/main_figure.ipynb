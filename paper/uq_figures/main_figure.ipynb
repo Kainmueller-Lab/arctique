{
 "cells": [
  {
   "cell_type": "code",
   "execution_count": 1,
   "metadata": {},
   "outputs": [],
   "source": [
    "import os"
   ]
  },
  {
   "cell_type": "markdown",
   "metadata": {},
   "source": [
    "# Load data"
   ]
  },
  {
   "cell_type": "code",
   "execution_count": 7,
   "metadata": {},
   "outputs": [
    {
     "data": {
      "text/plain": [
       "['FGBG_deterministic_pu_aggr_per_noise.pkl',\n",
       " 'FGBG_dropout_au_aggr_per_noise.pkl',\n",
       " 'FGBG_dropout_eu_aggr_per_noise.pkl',\n",
       " 'FGBG_dropout_pu_aggr_per_noise.pkl',\n",
       " 'FGBG_ensemble_au_aggr_per_noise.pkl',\n",
       " 'FGBG_ensemble_eu_aggr_per_noise.pkl',\n",
       " 'FGBG_ensemble_pu_aggr_per_noise.pkl',\n",
       " 'FGBG_tta_au_aggr_per_noise.pkl',\n",
       " 'FGBG_tta_eu_aggr_per_noise.pkl',\n",
       " 'FGBG_tta_pu_aggr_per_noise.pkl',\n",
       " 'semantic_deterministic_pu_aggr_per_noise.pkl',\n",
       " 'semantic_dropout_au_aggr_per_noise.pkl',\n",
       " 'semantic_dropout_eu_aggr_per_noise.pkl',\n",
       " 'semantic_dropout_pu_aggr_per_noise.pkl',\n",
       " 'semantic_ensemble_au_aggr_per_noise.pkl',\n",
       " 'semantic_ensemble_eu_aggr_per_noise.pkl',\n",
       " 'semantic_ensemble_pu_aggr_per_noise.pkl',\n",
       " 'semantic_tta_au_aggr_per_noise.pkl',\n",
       " 'semantic_tta_eu_aggr_per_noise.pkl',\n",
       " 'semantic_tta_pu_aggr_per_noise.pkl']"
      ]
     },
     "execution_count": 7,
     "metadata": {},
     "output_type": "execute_result"
    }
   ],
   "source": [
    "version = 'uncertainty_aggr_0530_1500'\n",
    "data_path = '../../data/uq_experiments/' + version + '/'\n",
    "files = os.listdir(data_path)\n",
    "files\n",
    "#def cons"
   ]
  }
 ],
 "metadata": {
  "kernelspec": {
   "display_name": "blender",
   "language": "python",
   "name": "python3"
  },
  "language_info": {
   "codemirror_mode": {
    "name": "ipython",
    "version": 3
   },
   "file_extension": ".py",
   "mimetype": "text/x-python",
   "name": "python",
   "nbconvert_exporter": "python",
   "pygments_lexer": "ipython3",
   "version": "3.9.18"
  }
 },
 "nbformat": 4,
 "nbformat_minor": 2
}
